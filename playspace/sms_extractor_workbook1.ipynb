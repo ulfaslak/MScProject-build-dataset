{
 "cells": [
  {
   "cell_type": "code",
   "execution_count": 331,
   "metadata": {
    "collapsed": true
   },
   "outputs": [],
   "source": [
    "%matplotlib inline\n",
    "from sensible_raw.loaders import loader\n",
    "import pandas as pd\n",
    "from collections import defaultdict\n",
    "import matplotlib.pylab as plt\n",
    "import seaborn as sns\n",
    "import subprocess\n",
    "import os\n",
    "import json\n",
    "import datetime\n",
    "from datetime import datetime as dt\n",
    "import numpy as np"
   ]
  },
  {
   "cell_type": "code",
   "execution_count": 155,
   "metadata": {
    "collapsed": true
   },
   "outputs": [],
   "source": [
    "# Load data\n",
    "columns_sms, data_sms = loader.load_data(\"sms\", \"february_2014\")\n",
    "\n",
    "dict_tmp = {}\n",
    "for column, array in zip(columns_sms, data_sms):\n",
    "    dict_tmp[column] = array\n",
    "df_sms = pd.DataFrame(dict_tmp)"
   ]
  },
  {
   "cell_type": "code",
   "execution_count": 156,
   "metadata": {
    "collapsed": false
   },
   "outputs": [],
   "source": [
    "# Filter out non-delivered messages\n",
    "df_sms = df_sms[df_sms['status'] <= 0]"
   ]
  },
  {
   "cell_type": "code",
   "execution_count": 118,
   "metadata": {
    "collapsed": true
   },
   "outputs": [],
   "source": [
    "# Declare typical class hours\n",
    "typical_class_hours = range(8,10) + range(13,15)"
   ]
  },
  {
   "cell_type": "markdown",
   "metadata": {},
   "source": [
    "# Feature extraction from sms data\n",
    "\n",
    "### Features to extract\n",
    "    \n",
    "    1. Outward sociability (daily number of sms'es sent)\n",
    "    2. Inward sociability (daily number of sms'es received)\n",
    "    3. Outward sociability in typical class hours\n",
    "    4. Overall responsiveness to messages\n",
    "    5. Overall received responsiveness to messages\n",
    "    6. Selectivity in responsiveness\n",
    "    7. Fractions of conversations started\n",
    "    8. Non-study outgoing messaging fraction"
   ]
  },
  {
   "cell_type": "markdown",
   "metadata": {},
   "source": [
    "### 1-3"
   ]
  },
  {
   "cell_type": "code",
   "execution_count": 509,
   "metadata": {
    "collapsed": true
   },
   "outputs": [],
   "source": [
    "def compute_outward_sociability(user):\n",
    "    outgoing_messages = df_sms[df_sms['user']==user][df_sms['type']==2]\n",
    "    return {'outward_sociability': len(outgoing_messages)}\n",
    "\n",
    "def compute_inward_sociability(user):\n",
    "    ingoing_messages = df_sms[df_sms['user']==user][df_sms['type']==1]\n",
    "    return {'inward_sociability': len(ingoing_messages)}\n",
    "\n",
    "def compute_outward_sociability_in_typical_class_hours(user):\n",
    "    outgoing_messages_timestamps = df_sms[df_sms['user']==user][df_sms['type']==2]['timestamp']\n",
    "    outgoing_messages_timestamps_in_typical_class_hours = filter(\n",
    "        lambda x: dt.fromtimestamp(x/1000).hour\n",
    "        in typical_class_hours, outgoing_messages_timestamps)\n",
    "    \n",
    "    return {'outward_sociability_in_typical_class_hours': len(outgoing_messages_timestamps_in_typical_class_hours)}"
   ]
  },
  {
   "cell_type": "markdown",
   "metadata": {},
   "source": [
    "### 4 - 7\n",
    "#### Strategy:\n",
    "    1. Break data into to conversations (using critical time seperation)\n",
    "    2. Treat each conversation as a two-noded graph. Directed links correspond to messages, and their lengths correspond to response time\n",
    "    3. Compute average response time, and response time experiences on each conversation.\n",
    "    4. Compute Responsiveness as the average response time and std. of Responsiveness from this."
   ]
  },
  {
   "cell_type": "code",
   "execution_count": 451,
   "metadata": {
    "collapsed": true
   },
   "outputs": [],
   "source": [
    "def compute_conversation_response_times(conversation):\n",
    "    conversation = conversation.sort(['timestamp'],ascending=[1])\n",
    "    \n",
    "    response_times = defaultdict(list)\n",
    "    \n",
    "    sender_prev = {}\n",
    "    sender = {}\n",
    "    \n",
    "    for i, message in enumerate(conversation.iterrows()):\n",
    "        \n",
    "        if i == 0:\n",
    "            sender_prev = {'actor': message[1]['type'],\n",
    "                        'timestamp': message[1]['timestamp']}\n",
    "            continue\n",
    "        \n",
    "        sender = {'actor': message[1]['type'],\n",
    "                  'timestamp': message[1]['timestamp']}\n",
    "        \n",
    "        if sender['actor'] == sender_prev['actor']:\n",
    "            continue\n",
    "            \n",
    "        response_time = (sender['timestamp'] - sender_prev['timestamp'])/1000\n",
    "        \n",
    "        response_times[sender['actor']].append(response_time)\n",
    "        \n",
    "        sender_prev = {'actor': message[1]['type'],\n",
    "                       'timestamp': message[1]['timestamp']}\n",
    "\n",
    "    response_time_user = np.mean(response_times[2])\n",
    "    response_time_conserver = np.mean(response_times[1])\n",
    "    \n",
    "    return response_time_user, response_time_conserver"
   ]
  },
  {
   "cell_type": "code",
   "execution_count": 398,
   "metadata": {
    "collapsed": false
   },
   "outputs": [],
   "source": [
    "def partition_dyad_messages_to_conversations(messages, expiration_time):\n",
    "    \"\"\"Used inside compute_user_conversations_response_times only\"\"\"\n",
    "    conversations = []\n",
    "    \n",
    "    timestamps = sorted(messages['timestamp']/1000)\n",
    "    \n",
    "    conversation_breaks = []\n",
    "    for i, _ in enumerate(timestamps):\n",
    "        if i == 0:\n",
    "            continue\n",
    "        delta_t = timestamps[i] - timestamps[i-1]\n",
    "        \n",
    "        if delta_t > expiration_time * 3600:\n",
    "            start_break = int(timestamps[i-1])\n",
    "            end_break = int(timestamps[i])\n",
    "            conversation_breaks.append([start_break, end_break])\n",
    "            \n",
    "    conversations = []\n",
    "    \n",
    "    if len(conversation_breaks) == 0:\n",
    "        conversations.append(messages)\n",
    "        return conversations\n",
    "    \n",
    "    for i, _ in enumerate(conversation_breaks):\n",
    "        if i == 0:\n",
    "            conv_end = conversation_breaks[i][0]\n",
    "            conversation = messages[\n",
    "                messages['timestamp']/1000 <= conv_end]\n",
    "            conversations.append(conversation)\n",
    "            continue\n",
    "        if i == len(conversation_breaks)-1:\n",
    "            conv_start = conversation_breaks[i][1]\n",
    "            conversation = messages[\n",
    "                messages['timestamp']/1000 >= conv_start]\n",
    "            conversations.append(conversation)\n",
    "            continue\n",
    "        \n",
    "        conv_start = conversation_breaks[i-1][1]\n",
    "        conv_end = conversation_breaks[i][0]\n",
    "        conversation = messages[\n",
    "            messages['timestamp']/1000 >= conv_start][\n",
    "            messages['timestamp']/1000 <= conv_end]\n",
    "        \n",
    "        conversations.append(conversation)\n",
    "        \n",
    "    return conversations"
   ]
  },
  {
   "cell_type": "code",
   "execution_count": 531,
   "metadata": {
    "collapsed": false
   },
   "outputs": [],
   "source": [
    "def compute_user_conversations(user,expiration_time=6):\n",
    "    \n",
    "    user_messages = df_sms[df_sms['user']==user]\n",
    "    \n",
    "    # the people that the user texts with\n",
    "    conservers = set(user_messages['address'])\n",
    "    \n",
    "    user_conversations = {}\n",
    "    \n",
    "    for c in conservers:\n",
    "        c_messages = user_messages[user_messages['address'] == c]\n",
    "        \n",
    "        c_conversations = partition_dyad_messages_to_conversations(c_messages,expiration_time)\n",
    "        \n",
    "        user_conversations[c] = c_conversations\n",
    "        \n",
    "    return user_conversations"
   ]
  },
  {
   "cell_type": "code",
   "execution_count": 532,
   "metadata": {
    "collapsed": false
   },
   "outputs": [
    {
     "data": {
      "text/plain": [
       "{'fractions_of_conversations_started': 0.49390243902439024,\n",
       " 'overall_received_responsiveness': 2156.9962962962968,\n",
       " 'overall_responsiveness': 1480.9791666666667,\n",
       " 'selectivity_in_responsiveness': 2589.5229294854466}"
      ]
     },
     "execution_count": 532,
     "metadata": {},
     "output_type": "execute_result"
    }
   ],
   "source": [
    "def compute_features_4_to_7(user):\n",
    "    user_conversations = compute_user_conversations(user)\n",
    "    \n",
    "    converser_response_times = {}\n",
    "    conversations_started = 0\n",
    "    conversations_count = 0\n",
    "    \n",
    "    i = 0\n",
    "    for converser, conversations in user_conversations.items():\n",
    "        \n",
    "        # compute response times\n",
    "        response_times = [compute_conversation_response_times(c) for c in conversations] #[(907.0, 36.0), (nan, nan), (239.0, 205.0), (140.0, 50.0)]\n",
    "        \n",
    "        average_outward = np.mean([r[0] for r in response_times])\n",
    "        average_inward = np.mean([r[1] for r in response_times])\n",
    "        \n",
    "        converser_response_times[converser] = {'average_outward': average_outward, 'average_inward': average_inward}\n",
    "        \n",
    "        conversations_started += len([c for c in conversations if list(c['type'])[0] == 2])\n",
    "        conversations_count += len(conversations)\n",
    "        \n",
    "        #i += 1\n",
    "        #if i > 5:\n",
    "        #    return converser_response_times\n",
    "        \n",
    "    # compute feature 4\n",
    "    responsiveness_list = [v['average_outward'] for k,v in converser_response_times.items()\n",
    "                           if not np.isnan(v['average_outward'])]\n",
    "    \n",
    "    overall_responsiveness = np.mean(responsiveness_list)\n",
    "    \n",
    "    # compute feature 5\n",
    "    overall_received_responsiveness = np.mean(\n",
    "        [v['average_inward'] for k,v in converser_response_times.items() \n",
    "         if not np.isnan(v['average_inward'])])\n",
    "    \n",
    "    # compute feature 6\n",
    "    selectivity_in_responsiveness = np.std(responsiveness_list)\n",
    "    \n",
    "    # compute feature 7\n",
    "    fractions_of_conversations_started = conversations_started * 1.0/conversations_count\n",
    "    \n",
    "    return {'overall_responsiveness': overall_responsiveness, \n",
    "            'overall_received_responsiveness': overall_received_responsiveness, \n",
    "            'selectivity_in_responsiveness': selectivity_in_responsiveness, \n",
    "            'fractions_of_conversations_started': fractions_of_conversations_started}\n",
    "\n",
    "compute_features_4_to_7(166)\n",
    "\n",
    "\n",
    "    "
   ]
  },
  {
   "cell_type": "markdown",
   "metadata": {},
   "source": [
    "#### 8"
   ]
  },
  {
   "cell_type": "code",
   "execution_count": 521,
   "metadata": {
    "collapsed": true
   },
   "outputs": [],
   "source": [
    "def compute_non_study_outgoing_messaging_fraction(user):\n",
    "    user_messages = df_sms[df_sms['user']==user]\n",
    "    outgoing_messages = user_messages[\n",
    "        user_messages['type'] == 2]\n",
    "    non_study_outgoing_messages = outgoing_messages[\n",
    "        user_messages['address'] > max(df_sms['user'])]\n",
    "    \n",
    "    return len(non_study_outgoing_messages) * 1.0/len(outgoing_messages)\n",
    "    "
   ]
  },
  {
   "cell_type": "code",
   "execution_count": 527,
   "metadata": {
    "collapsed": false
   },
   "outputs": [
    {
     "data": {
      "text/plain": [
       "0.6592920353982301"
      ]
     },
     "execution_count": 527,
     "metadata": {},
     "output_type": "execute_result"
    }
   ],
   "source": [
    "compute_non_study_outgoing_messaging_fraction(4)"
   ]
  },
  {
   "cell_type": "code",
   "execution_count": 534,
   "metadata": {
    "collapsed": false
   },
   "outputs": [],
   "source": [
    "tmp = compute_user_conversations(101)"
   ]
  },
  {
   "cell_type": "code",
   "execution_count": 543,
   "metadata": {
    "collapsed": false
   },
   "outputs": [
    {
     "data": {
      "text/plain": [
       "[        address  status      timestamp  type  user\n",
       " 252558    48431      -1  1393500613000     1   101\n",
       " 252559    48431      -1  1393509668000     2   101\n",
       " 252560    48431      -1  1393516294000     1   101\n",
       " 252561    48431      -1  1393525972000     2   101\n",
       " 252562    48431      -1  1393534882000     2   101\n",
       " 252563    48431      -1  1393535084000     1   101\n",
       " 252564    48431      -1  1393539784000     2   101\n",
       " 252565    48431      -1  1393540592000     1   101\n",
       " 252566    48431      -1  1393540966000     2   101\n",
       " 252567    48431      -1  1393541018000     1   101\n",
       " 252568    48431      -1  1393541058000     2   101\n",
       " 252569    48431      -1  1393541103000     1   101\n",
       " 252570    48431      -1  1393542246000     2   101,\n",
       "         address  status      timestamp  type  user\n",
       " 272976    48431      -1  1393608393000     1   101\n",
       " 272977    48431      -1  1393608530000     2   101\n",
       " 272978    48431      -1  1393608710000     1   101\n",
       " 272979    48431      -1  1393608765000     2   101\n",
       " 272980    48431      -1  1393608869000     1   101\n",
       " 272981    48431      -1  1393612486000     2   101\n",
       " 272982    48431      -1  1393612580000     1   101\n",
       " 281186    48431      -1  1393607897000     1   101\n",
       " 281187    48431      -1  1393607943000     2   101]"
      ]
     },
     "execution_count": 543,
     "metadata": {},
     "output_type": "execute_result"
    }
   ],
   "source": [
    "tmp.items()[4][1]"
   ]
  },
  {
   "cell_type": "code",
   "execution_count": null,
   "metadata": {
    "collapsed": true
   },
   "outputs": [],
   "source": []
  },
  {
   "cell_type": "code",
   "execution_count": null,
   "metadata": {
    "collapsed": true
   },
   "outputs": [],
   "source": []
  }
 ],
 "metadata": {
  "kernelspec": {
   "display_name": "Python 2",
   "language": "python",
   "name": "python2"
  },
  "language_info": {
   "codemirror_mode": {
    "name": "ipython",
    "version": 2
   },
   "file_extension": ".py",
   "mimetype": "text/x-python",
   "name": "python",
   "nbconvert_exporter": "python",
   "pygments_lexer": "ipython2",
   "version": "2.7.6"
  }
 },
 "nbformat": 4,
 "nbformat_minor": 0
}
