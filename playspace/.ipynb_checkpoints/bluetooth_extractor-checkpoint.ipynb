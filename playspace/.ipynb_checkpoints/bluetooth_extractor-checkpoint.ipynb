{
 "cells": [
  {
   "cell_type": "code",
   "execution_count": 202,
   "metadata": {
    "collapsed": true
   },
   "outputs": [],
   "source": [
    "%matplotlib inline\n",
    "from sensible_raw.loaders import loader\n",
    "import pandas\n",
    "from collections import defaultdict, Counter\n",
    "import matplotlib.pylab as plt\n",
    "import seaborn as sns\n",
    "import subprocess\n",
    "import os, sys\n",
    "import json\n",
    "import datetime\n",
    "from datetime import datetime as dt\n",
    "from scipy import stats\n",
    "import numpy as np"
   ]
  },
  {
   "cell_type": "markdown",
   "metadata": {},
   "source": [
    "# Feature extraction from bluetooth data\n",
    "\n",
    "### Features to extract\n",
    "    \n",
    "    1. Sociability (avg daily degree)\n",
    "    3. Predictability\n",
    "    (4. Number of cores)"
   ]
  },
  {
   "cell_type": "code",
   "execution_count": 197,
   "metadata": {
    "collapsed": false
   },
   "outputs": [],
   "source": [
    "# Load bluetooth data\n",
    "columns_bluetooth, data_bluetooth = loader.load_data(\"bluetooth_2\", \"february_2014\")\n",
    "dict_tmp = {}\n",
    "for column, array in zip(columns_bluetooth, data_bluetooth):\n",
    "    dict_tmp[column] = array\n",
    "df_bluetooth = pandas.DataFrame(dict_tmp)"
   ]
  },
  {
   "cell_type": "code",
   "execution_count": 198,
   "metadata": {
    "collapsed": true
   },
   "outputs": [],
   "source": [
    "# Filter data. Remove non-phone and > 1.5 m connections.\n",
    "def is_phone(deviceClass):\n",
    "    major_class_bitmask = 0x001F00\n",
    "    phone_class = 0x000200\n",
    "    return (deviceClass & major_class_bitmask) == phone_class\n",
    "\n",
    "df_bluetooth = df_bluetooth[(is_phone(df_bluetooth['class'])==True) & (df_bluetooth['rssi'] > -75)]"
   ]
  },
  {
   "cell_type": "code",
   "execution_count": 215,
   "metadata": {
    "collapsed": true
   },
   "outputs": [],
   "source": [
    "users = list(set(df_bluetooth['user']))"
   ]
  },
  {
   "cell_type": "code",
   "execution_count": 199,
   "metadata": {
    "collapsed": false
   },
   "outputs": [
    {
     "name": "stdout",
     "output_type": "stream",
     "text": [
      "N in-study connections: 440998\n",
      "N out-study connections: 54226\n"
     ]
    }
   ],
   "source": [
    "print \"N in-study connections:\", len(df_bluetooth[df_bluetooth['bt_mac'] >= 0])\n",
    "print \"N out-study connections:\", len(df_bluetooth[df_bluetooth['bt_mac'] < 0])"
   ]
  },
  {
   "cell_type": "code",
   "execution_count": 201,
   "metadata": {
    "collapsed": false
   },
   "outputs": [
    {
     "name": "stdout",
     "output_type": "stream",
     "text": [
      "Number of participants: 606\n",
      "Number of interactions: 495224\n"
     ]
    }
   ],
   "source": [
    "print \"Number of participants:\", len(data_main)\n",
    "print \"Number of interactions:\", len(list(df_bluetooth['user']))"
   ]
  },
  {
   "cell_type": "markdown",
   "metadata": {},
   "source": [
    "## 3. Predictability\n",
    "\n",
    "#### To compute this feature, the strategy is as follows:\n",
    "1. Compute the entropy.\n",
    "    1. Create counter of every social state (connection)\n",
    "    2. Normalise with all connections for user to get probability\n",
    "    3. Compute entropy using $S_i^{unc}=\\sum_j^{N_i} =p_j\\log_2{p_j}$\n",
    "2. Solve a limiting case Fano's inequality to find the predictability."
   ]
  },
  {
   "cell_type": "code",
   "execution_count": 225,
   "metadata": {
    "collapsed": false
   },
   "outputs": [],
   "source": [
    "def compute_entropy(p):\n",
    "    Ni = len(p); entropy = 0.0\n",
    "    for j in range(Ni):\n",
    "        entropy -= p[j]*np.log(p[j])\n",
    "    return entropy\n",
    "\n",
    "\n",
    "user_entropy = {}\n",
    "user_connections = {}\n",
    "        \n",
    "for i in users:\n",
    "    state_counter = Counter()\n",
    "\n",
    "    connections = list(df_bluetooth[df_bluetooth['user'] == i]['bt_mac'])\n",
    "    state_counter.update(connections)\n",
    "    \n",
    "    p = np.array(state_counter.values()) * 1.0/len(connections)\n",
    "    \n",
    "    user_entropy[i] = compute_entropy(p)\n",
    "    user_connections[i] = len(connections)"
   ]
  },
  {
   "cell_type": "code",
   "execution_count": 224,
   "metadata": {
    "collapsed": false
   },
   "outputs": [
    {
     "data": {
      "text/plain": [
       "(array([ 20.,  12.,  11.,  11.,  18.,  24.,  24.,  34.,  29.,  40.,  44.,\n",
       "         61.,  52.,  73.,  84.,  55.,  39.,  31.,  13.,   7.]),\n",
       " array([ 0.        ,  0.2110667 ,  0.4221334 ,  0.6332001 ,  0.8442668 ,\n",
       "         1.0553335 ,  1.2664002 ,  1.4774669 ,  1.6885336 ,  1.8996003 ,\n",
       "         2.110667  ,  2.3217337 ,  2.5328004 ,  2.7438671 ,  2.9549338 ,\n",
       "         3.1660005 ,  3.37706719,  3.58813389,  3.79920059,  4.01026729,\n",
       "         4.22133399]),\n",
       " <a list of 20 Patch objects>)"
      ]
     },
     "execution_count": 224,
     "metadata": {},
     "output_type": "execute_result"
    },
    {
     "data": {
      "image/png": "[encoded data removed]",
      "text/plain": [
       "<matplotlib.figure.Figure at 0x7f273eb6ac50>"
      ]
     },
     "metadata": {},
     "output_type": "display_data"
    }
   ],
   "source": [
    "x, y = [], []\n",
    "for i in users:\n",
    "        \n",
    "    y.append(user_entropy[i])"
   ]
  },
  {
   "cell_type": "code",
   "execution_count": 223,
   "metadata": {
    "collapsed": false
   },
   "outputs": [
    {
     "data": {
      "text/plain": [
       "[-1924633, -1924633, -1924633]"
      ]
     },
     "execution_count": 223,
     "metadata": {},
     "output_type": "execute_result"
    }
   ],
   "source": [
    "list(df_bluetooth[df_bluetooth['user'] == 60]['bt_mac'])"
   ]
  },
  {
   "cell_type": "code",
   "execution_count": null,
   "metadata": {
    "collapsed": true
   },
   "outputs": [],
   "source": []
  }
 ],
 "metadata": {
  "kernelspec": {
   "display_name": "Python 2",
   "language": "python",
   "name": "python2"
  },
  "language_info": {
   "codemirror_mode": {
    "name": "ipython",
    "version": 2
   },
   "file_extension": ".py",
   "mimetype": "text/x-python",
   "name": "python",
   "nbconvert_exporter": "python",
   "pygments_lexer": "ipython2",
   "version": "2.7.6"
  }
 },
 "nbformat": 4,
 "nbformat_minor": 0
}
