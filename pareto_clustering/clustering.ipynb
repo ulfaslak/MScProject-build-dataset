{
 "cells": [
  {
   "cell_type": "code",
   "execution_count": 1,
   "metadata": {
    "collapsed": true
   },
   "outputs": [],
   "source": [
    "import numpy as np\n",
    "from sklearn.cluster import DBSCAN\n",
    "import pandas as pd"
   ]
  },
  {
   "cell_type": "code",
   "execution_count": 2,
   "metadata": {
    "collapsed": false
   },
   "outputs": [],
   "source": [
    "S = np.loadtxt(\"data/S.csv\", delimiter=\",\")\n",
    "S += S.T\n",
    "S = 1/S\n",
    "np.fill_diagonal(S,0)"
   ]
  },
  {
   "cell_type": "code",
   "execution_count": 70,
   "metadata": {
    "collapsed": true
   },
   "outputs": [],
   "source": [
    "# Transform data\n",
    "S = np.exp(S)\n",
    "np.fill_diagonal(S,0)"
   ]
  },
  {
   "cell_type": "code",
   "execution_count": 113,
   "metadata": {
    "collapsed": false
   },
   "outputs": [],
   "source": [
    "dbscan = DBSCAN(eps=2.5, metric='precomputed')"
   ]
  },
  {
   "cell_type": "code",
   "execution_count": 114,
   "metadata": {
    "collapsed": false
   },
   "outputs": [],
   "source": [
    "db = dbscan.fit(S)"
   ]
  },
  {
   "cell_type": "code",
   "execution_count": 115,
   "metadata": {
    "collapsed": false
   },
   "outputs": [
    {
     "data": {
      "text/plain": [
       "array([-1,  0,  0,  0,  0,  0, -1,  0, -1, -1])"
      ]
     },
     "execution_count": 115,
     "metadata": {},
     "output_type": "execute_result"
    }
   ],
   "source": [
    "db.labels_"
   ]
  },
  {
   "cell_type": "code",
   "execution_count": 3,
   "metadata": {
    "collapsed": false
   },
   "outputs": [
    {
     "data": {
      "text/html": [
       "<div style=\"max-height:1000px;max-width:1500px;overflow:auto;\">\n",
       "<table border=\"1\" class=\"dataframe\">\n",
       "  <thead>\n",
       "    <tr style=\"text-align: right;\">\n",
       "      <th></th>\n",
       "      <th>0</th>\n",
       "      <th>1</th>\n",
       "      <th>2</th>\n",
       "      <th>3</th>\n",
       "      <th>4</th>\n",
       "      <th>5</th>\n",
       "      <th>6</th>\n",
       "      <th>7</th>\n",
       "      <th>8</th>\n",
       "      <th>9</th>\n",
       "    </tr>\n",
       "  </thead>\n",
       "  <tbody>\n",
       "    <tr>\n",
       "      <th>0</th>\n",
       "      <td> 0.000000</td>\n",
       "      <td> 1.162493</td>\n",
       "      <td> 0.993443</td>\n",
       "      <td> 0.958865</td>\n",
       "      <td> 1.061966</td>\n",
       "      <td> 0.973331</td>\n",
       "      <td> 1.117094</td>\n",
       "      <td> 1.030524</td>\n",
       "      <td> 0.976467</td>\n",
       "      <td> 1.054719</td>\n",
       "    </tr>\n",
       "    <tr>\n",
       "      <th>1</th>\n",
       "      <td> 1.162493</td>\n",
       "      <td> 0.000000</td>\n",
       "      <td> 1.147118</td>\n",
       "      <td> 0.877655</td>\n",
       "      <td> 1.275201</td>\n",
       "      <td> 0.968429</td>\n",
       "      <td> 1.098974</td>\n",
       "      <td> 1.020971</td>\n",
       "      <td> 1.176194</td>\n",
       "      <td> 1.236843</td>\n",
       "    </tr>\n",
       "    <tr>\n",
       "      <th>2</th>\n",
       "      <td> 0.993443</td>\n",
       "      <td> 1.147118</td>\n",
       "      <td> 0.000000</td>\n",
       "      <td> 0.843099</td>\n",
       "      <td> 0.992457</td>\n",
       "      <td> 1.045489</td>\n",
       "      <td> 0.960799</td>\n",
       "      <td> 0.926012</td>\n",
       "      <td> 0.975419</td>\n",
       "      <td> 0.987849</td>\n",
       "    </tr>\n",
       "    <tr>\n",
       "      <th>3</th>\n",
       "      <td> 0.958865</td>\n",
       "      <td> 0.877655</td>\n",
       "      <td> 0.843099</td>\n",
       "      <td> 0.000000</td>\n",
       "      <td> 0.897908</td>\n",
       "      <td> 0.887233</td>\n",
       "      <td> 0.974374</td>\n",
       "      <td> 0.778877</td>\n",
       "      <td> 0.952653</td>\n",
       "      <td> 0.950029</td>\n",
       "    </tr>\n",
       "    <tr>\n",
       "      <th>4</th>\n",
       "      <td> 1.061966</td>\n",
       "      <td> 1.275201</td>\n",
       "      <td> 0.992457</td>\n",
       "      <td> 0.897908</td>\n",
       "      <td> 0.000000</td>\n",
       "      <td> 0.978186</td>\n",
       "      <td> 1.040474</td>\n",
       "      <td> 0.957579</td>\n",
       "      <td> 1.030057</td>\n",
       "      <td> 0.998104</td>\n",
       "    </tr>\n",
       "    <tr>\n",
       "      <th>5</th>\n",
       "      <td> 0.973331</td>\n",
       "      <td> 0.968429</td>\n",
       "      <td> 1.045489</td>\n",
       "      <td> 0.887233</td>\n",
       "      <td> 0.978186</td>\n",
       "      <td> 0.000000</td>\n",
       "      <td> 0.920387</td>\n",
       "      <td> 1.029241</td>\n",
       "      <td> 1.058347</td>\n",
       "      <td> 1.160295</td>\n",
       "    </tr>\n",
       "    <tr>\n",
       "      <th>6</th>\n",
       "      <td> 1.117094</td>\n",
       "      <td> 1.098974</td>\n",
       "      <td> 0.960799</td>\n",
       "      <td> 0.974374</td>\n",
       "      <td> 1.040474</td>\n",
       "      <td> 0.920387</td>\n",
       "      <td> 0.000000</td>\n",
       "      <td> 0.958865</td>\n",
       "      <td> 1.040258</td>\n",
       "      <td> 1.014106</td>\n",
       "    </tr>\n",
       "    <tr>\n",
       "      <th>7</th>\n",
       "      <td> 1.030524</td>\n",
       "      <td> 1.020971</td>\n",
       "      <td> 0.926012</td>\n",
       "      <td> 0.778877</td>\n",
       "      <td> 0.957579</td>\n",
       "      <td> 1.029241</td>\n",
       "      <td> 0.958865</td>\n",
       "      <td> 0.000000</td>\n",
       "      <td> 0.962279</td>\n",
       "      <td> 0.949397</td>\n",
       "    </tr>\n",
       "    <tr>\n",
       "      <th>8</th>\n",
       "      <td> 0.976467</td>\n",
       "      <td> 1.176194</td>\n",
       "      <td> 0.975419</td>\n",
       "      <td> 0.952653</td>\n",
       "      <td> 1.030057</td>\n",
       "      <td> 1.058347</td>\n",
       "      <td> 1.040258</td>\n",
       "      <td> 0.962279</td>\n",
       "      <td> 0.000000</td>\n",
       "      <td> 1.002255</td>\n",
       "    </tr>\n",
       "    <tr>\n",
       "      <th>9</th>\n",
       "      <td> 1.054719</td>\n",
       "      <td> 1.236843</td>\n",
       "      <td> 0.987849</td>\n",
       "      <td> 0.950029</td>\n",
       "      <td> 0.998104</td>\n",
       "      <td> 1.160295</td>\n",
       "      <td> 1.014106</td>\n",
       "      <td> 0.949397</td>\n",
       "      <td> 1.002255</td>\n",
       "      <td> 0.000000</td>\n",
       "    </tr>\n",
       "  </tbody>\n",
       "</table>\n",
       "</div>"
      ],
      "text/plain": [
       "          0         1         2         3         4         5         6  \\\n",
       "0  0.000000  1.162493  0.993443  0.958865  1.061966  0.973331  1.117094   \n",
       "1  1.162493  0.000000  1.147118  0.877655  1.275201  0.968429  1.098974   \n",
       "2  0.993443  1.147118  0.000000  0.843099  0.992457  1.045489  0.960799   \n",
       "3  0.958865  0.877655  0.843099  0.000000  0.897908  0.887233  0.974374   \n",
       "4  1.061966  1.275201  0.992457  0.897908  0.000000  0.978186  1.040474   \n",
       "5  0.973331  0.968429  1.045489  0.887233  0.978186  0.000000  0.920387   \n",
       "6  1.117094  1.098974  0.960799  0.974374  1.040474  0.920387  0.000000   \n",
       "7  1.030524  1.020971  0.926012  0.778877  0.957579  1.029241  0.958865   \n",
       "8  0.976467  1.176194  0.975419  0.952653  1.030057  1.058347  1.040258   \n",
       "9  1.054719  1.236843  0.987849  0.950029  0.998104  1.160295  1.014106   \n",
       "\n",
       "          7         8         9  \n",
       "0  1.030524  0.976467  1.054719  \n",
       "1  1.020971  1.176194  1.236843  \n",
       "2  0.926012  0.975419  0.987849  \n",
       "3  0.778877  0.952653  0.950029  \n",
       "4  0.957579  1.030057  0.998104  \n",
       "5  1.029241  1.058347  1.160295  \n",
       "6  0.958865  1.040258  1.014106  \n",
       "7  0.000000  0.962279  0.949397  \n",
       "8  0.962279  0.000000  1.002255  \n",
       "9  0.949397  1.002255  0.000000  "
      ]
     },
     "execution_count": 3,
     "metadata": {},
     "output_type": "execute_result"
    }
   ],
   "source": [
    "pd.DataFrame(S)"
   ]
  },
  {
   "cell_type": "code",
   "execution_count": null,
   "metadata": {
    "collapsed": true
   },
   "outputs": [],
   "source": []
  }
 ],
 "metadata": {
  "kernelspec": {
   "display_name": "Python 2",
   "language": "python",
   "name": "python2"
  },
  "language_info": {
   "codemirror_mode": {
    "name": "ipython",
    "version": 2
   },
   "file_extension": ".py",
   "mimetype": "text/x-python",
   "name": "python",
   "nbconvert_exporter": "python",
   "pygments_lexer": "ipython2",
   "version": "2.7.11"
  }
 },
 "nbformat": 4,
 "nbformat_minor": 0
}
