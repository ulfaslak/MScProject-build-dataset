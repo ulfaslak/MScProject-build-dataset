{
 "cells": [
  {
   "cell_type": "code",
   "execution_count": 1,
   "metadata": {
    "collapsed": false
   },
   "outputs": [
    {
     "name": "stdout",
     "output_type": "stream",
     "text": [
      "/Users/ulfaslak/Dropbox/school/sem12/MScProject/Academic/code/pipeline_code\n"
     ]
    }
   ],
   "source": [
    "cd .."
   ]
  },
  {
   "cell_type": "markdown",
   "metadata": {},
   "source": [
    "### Simulate structured data"
   ]
  },
  {
   "cell_type": "code",
   "execution_count": 2,
   "metadata": {
    "collapsed": false
   },
   "outputs": [],
   "source": [
    "from pareto_clustering.dependencies.matlab import generate_poisson_dataset\n",
    "X_sim, labels_sim = generate_poisson_dataset.generate_poisson_dataset(4,100,100,0.0)"
   ]
  },
  {
   "cell_type": "markdown",
   "metadata": {},
   "source": [
    "### Compute T-ratio matrix"
   ]
  },
  {
   "cell_type": "code",
   "execution_count": 8,
   "metadata": {
    "collapsed": false,
    "scrolled": true
   },
   "outputs": [
    {
     "name": "stdout",
     "output_type": "stream",
     "text": [
      "0% 50/4950\n",
      "10% 545/4950\n",
      "20% 1040/4950\n",
      "30% 1535/4950\n",
      "40% 2030/4950\n",
      "50% 2525/4950\n",
      "60% 3020/4950\n",
      "70% 3515/4950\n",
      "80% 4010/4950\n",
      "90% 4505/4950\n",
      "100% 4950/4950\n"
     ]
    }
   ],
   "source": [
    "from pareto_clustering.cluster.build_S import Build_S\n",
    "_, T, _ = Build_S(X_sim,5,sample_size=1.0, remove_outliers=False).main(visualize=False)"
   ]
  },
  {
   "cell_type": "markdown",
   "metadata": {},
   "source": [
    "### Infer communities"
   ]
  },
  {
   "cell_type": "code",
   "execution_count": 11,
   "metadata": {
    "collapsed": false
   },
   "outputs": [],
   "source": [
    "from pareto_clustering.cluster import cluster_Infomap\n",
    "pred_communities = cluster_Infomap.community_detection_Infomap(T)"
   ]
  },
  {
   "cell_type": "markdown",
   "metadata": {},
   "source": [
    "### Compare inferred communities to true communities"
   ]
  },
  {
   "cell_type": "code",
   "execution_count": 13,
   "metadata": {
    "collapsed": false
   },
   "outputs": [
    {
     "name": "stdout",
     "output_type": "stream",
     "text": [
      "Edit distance: 2\n",
      "Accuracy: 99.0\n"
     ]
    },
    {
     "name": "stderr",
     "output_type": "stream",
     "text": [
      "/Users/ulfaslak/miniconda/lib/python2.7/site-packages/ipykernel/__main__.py:26: DeprecationWarning: using a non-integer number instead of an integer will result in an error in the future\n"
     ]
    }
   ],
   "source": [
    "def levenshtein(s1, s2):\n",
    "    if len(s1) < len(s2):\n",
    "        return levenshtein(s2, s1)\n",
    "\n",
    "    # len(s1) >= len(s2)\n",
    "    if len(s2) == 0:\n",
    "        return len(s1)\n",
    "\n",
    "    previous_row = range(len(s2) + 1)\n",
    "    for i, c1 in enumerate(s1):\n",
    "        current_row = [i + 1]\n",
    "        for j, c2 in enumerate(s2):\n",
    "            insertions = previous_row[j + 1] + 1 # j+1 instead of j since previous_row and current_row are one character longer\n",
    "            deletions = current_row[j] + 1       # than s2\n",
    "            substitutions = previous_row[j] + (c1 != c2)\n",
    "            current_row.append(min(insertions, deletions, substitutions))\n",
    "        previous_row = current_row\n",
    "    \n",
    "    return previous_row[-1]\n",
    "\n",
    "def flatten(l):\n",
    "    return [item for sublist in l for item in sublist]\n",
    "\n",
    "pred_communities_sorted = sorted(pred_communities.values(), key=lambda x: (x[0],x[-1]))\n",
    "\n",
    "true_stringyfied = flatten([[str(i)]*v for i,v in enumerate(labels_sim)])\n",
    "pred_stringyfied = flatten([[str(i)]*len(v) for i,v in enumerate(pred_communities_sorted)])\n",
    "\n",
    "edit_distance = levenshtein(true_stringyfied, pred_stringyfied)\n",
    "\n",
    "print \"Edit distance:\", edit_distance\n",
    "print \"Accuracy:\", 100-edit_distance*0.5/len(pred_stringyfied)*100"
   ]
  },
  {
   "cell_type": "code",
   "execution_count": null,
   "metadata": {
    "collapsed": true
   },
   "outputs": [],
   "source": []
  }
 ],
 "metadata": {
  "kernelspec": {
   "display_name": "Python 2",
   "language": "python",
   "name": "python2"
  },
  "language_info": {
   "codemirror_mode": {
    "name": "ipython",
    "version": 2
   },
   "file_extension": ".py",
   "mimetype": "text/x-python",
   "name": "python",
   "nbconvert_exporter": "python",
   "pygments_lexer": "ipython2",
   "version": "2.7.11"
  }
 },
 "nbformat": 4,
 "nbformat_minor": 0
}
