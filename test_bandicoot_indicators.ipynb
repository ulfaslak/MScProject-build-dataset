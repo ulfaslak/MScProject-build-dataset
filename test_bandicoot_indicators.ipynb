{
 "cells": [
  {
   "cell_type": "code",
   "execution_count": 22,
   "metadata": {
    "collapsed": true
   },
   "outputs": [],
   "source": [
    "%matplotlib inline\n",
    "import matplotlib.pylab as plt\n",
    "\n",
    "import numpy as np\n",
    "import json\n",
    "from datetime import datetime as dt\n",
    "\n",
    "import bandicoot_dev as bc_d"
   ]
  },
  {
   "cell_type": "code",
   "execution_count": 19,
   "metadata": {
    "collapsed": true
   },
   "outputs": [],
   "source": [
    "def _compute_features(userid, tc=\"tc0\", groupby=\"week\", summary=\"special\"):\n",
    "    \n",
    "    user = bc_d.read_csv(\n",
    "        \"%d\" % userid, \n",
    "        call_path=\"build_dataset/data_cache/records/call/%s/\" % tc,\n",
    "        text_path=\"build_dataset/data_cache/records/text/%s/\" % tc,\n",
    "        physical_path=\"build_dataset/data_cache/records/physical/%s/\" % tc,\n",
    "        screen_path=\"build_dataset/data_cache/records/screen/%s/\" % tc,\n",
    "        stop_path=\"build_dataset/data_cache/records/stop/%s/\" % tc, \n",
    "        network=False,\n",
    "        describe=False\n",
    "    )\n",
    "    \n",
    "    user.start_time['any'] = dt.strptime('01/01/14', \"%d/%m/%y\")\n",
    "    user.end_time['any'] = dt.strptime('01/01/15', \"%d/%m/%y\")\n",
    "    \n",
    "    indicators = bc_d.utils.all(\n",
    "        user,\n",
    "        groupby=groupby,\n",
    "        summary=summary,\n",
    "        dist=True,\n",
    "        network=False,\n",
    "        spatial=False\n",
    "    )\n",
    "\n",
    "    for ex in ['name', 'reporting']:\n",
    "        del indicators[ex]\n",
    "\n",
    "    return bc_d.utils.flatten(indicators), user"
   ]
  },
  {
   "cell_type": "code",
   "execution_count": 20,
   "metadata": {
    "collapsed": false
   },
   "outputs": [
    {
     "name": "stdout",
     "output_type": "stream",
     "text": [
      "\u001b[33mWarning: No data provided!\u001b[0m\n"
     ]
    }
   ],
   "source": [
    "userid = 0\n",
    "tc = \"tc1_spring\"\n",
    "\n",
    "user = bc_d.read_csv(\n",
    "    \"%d\" % userid, \n",
    "    call_path=\"build_dataset/data_cache/records/call/%s/\" % tc,\n",
    "    text_path=\"build_dataset/data_cache/records/text/%s/\" % tc,\n",
    "    physical_path=\"build_dataset/data_cache/records/physical/%s/\" % tc,\n",
    "    screen_path=\"build_dataset/data_cache/records/screen/%s/\" % tc,\n",
    "    stop_path=\"build_dataset/data_cache/records/stop/%s/\" % tc, \n",
    "    network=False,\n",
    "    describe=False\n",
    ")"
   ]
  },
  {
   "cell_type": "code",
   "execution_count": 15,
   "metadata": {
    "collapsed": false
   },
   "outputs": [
    {
     "name": "stdout",
     "output_type": "stream",
     "text": [
      "__init__.py                        \u001b[1m\u001b[36mdata\u001b[m\u001b[m/\r\n",
      "all_sorts_of_figures.ipynb         data_sample_science_comp_2016.csv\r\n",
      "\u001b[1m\u001b[36manalysis\u001b[m\u001b[m/                          \u001b[1m\u001b[36mglobals\u001b[m\u001b[m/\r\n",
      "\u001b[1m\u001b[36mbandicoot_dev\u001b[m\u001b[m/                     \u001b[1m\u001b[36mpareto_clustering\u001b[m\u001b[m/\r\n",
      "\u001b[1m\u001b[36mbuild_dataset\u001b[m\u001b[m/                     \u001b[1m\u001b[36msample_code\u001b[m\u001b[m/\r\n",
      "build_loadable_datasources.py      test_bandicoot_indicators.ipynb\r\n",
      "create_datasets.ipynb              tmp.png\r\n",
      "create_user_records.ipynb          \u001b[1m\u001b[36mvisualisation\u001b[m\u001b[m/\r\n"
     ]
    }
   ],
   "source": [
    "ls"
   ]
  },
  {
   "cell_type": "code",
   "execution_count": null,
   "metadata": {
    "collapsed": true
   },
   "outputs": [],
   "source": []
  }
 ],
 "metadata": {
  "kernelspec": {
   "display_name": "Python 2",
   "language": "python",
   "name": "python2"
  },
  "language_info": {
   "codemirror_mode": {
    "name": "ipython",
    "version": 2
   },
   "file_extension": ".py",
   "mimetype": "text/x-python",
   "name": "python",
   "nbconvert_exporter": "python",
   "pygments_lexer": "ipython2",
   "version": "2.7.11"
  }
 },
 "nbformat": 4,
 "nbformat_minor": 0
}
