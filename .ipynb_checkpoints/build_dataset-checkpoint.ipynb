{
 "cells": [
  {
   "cell_type": "code",
   "execution_count": 1,
   "metadata": {
    "collapsed": false
   },
   "outputs": [],
   "source": [
    "from sensible_raw.loaders import loader\n",
    "import numpy as np\n",
    "from sklearn.preprocessing import scale\n",
    "from sklearn.svm import OneClassSVM\n",
    "from collections import Counter, defaultdict\n",
    "import sys\n",
    "from datetime import datetime as dt\n",
    "import json\n",
    "import matplotlib.pylab as plt\n",
    "%matplotlib inline"
   ]
  },
  {
   "cell_type": "code",
   "execution_count": 2,
   "metadata": {
    "collapsed": false
   },
   "outputs": [],
   "source": [
    "from extractors.sms_extractor import Sms_extractor\n",
    "from extractors.stop_locations_extractor import Stop_locations_extractor\n",
    "##from screen_extractor import Screen_extractor\n",
    "##from facebook_friends_extractor import Facebook_friends_extractor\n",
    "from extractors.bluetooth_extractor import Bluetooth_extractor\n",
    "##from calllog_extractor import Calllog_extractor\n",
    "##from location_extractor import Location_extractor\n",
    "from extractors.big_five_extractor import Big_five_extractor\n",
    "\n",
    "from preproc.outlier_detection import Outlier_detector"
   ]
  },
  {
   "cell_type": "code",
   "execution_count": 3,
   "metadata": {
    "collapsed": false
   },
   "outputs": [
    {
     "name": "stdout",
     "output_type": "stream",
     "text": [
      "[sms] Loading datasource from local.\n",
      "[sms] Number of datapoints in range: 1786225\n",
      "[stop_locations] Loading datasource from local.\n",
      "[stop_locations] Number of datapoints in range: 450662\n",
      "[bluetooth] Loading datasource from local.\n",
      "[bluetooth] Number of datapoints in range: 3312659\n",
      "[big_five_extractor] Loaded data from local copy!\n"
     ]
    }
   ],
   "source": [
    "load_old_datasources = True\n",
    "\n",
    "tc0 = {'hours': range(24), 'days': range(7), 'spans': [(\"06/01/14\",\"24/01/14\"), (\"03/02/14\",\"16/05/14\"), (\"01/09/14\",\"05/12/14\"), (\"02/06/14\",\"20/06/14\")]} #in school\n",
    "tc1 = {'hours': range(24), 'days': range(7), 'spans': [(\"17/05/14\",\"01/06/14\"), (\"06/12/14\", \"21/12/14\")]} #exam periods\n",
    "tc2 = {'hours': range(24), 'days': range(7), 'spans': [(\"01/01/14\",\"05/01/14\"), (\"25/01/14\",\"02/02/14\"), (\"14/04/14\",\"20/04/14\"), (\"21/06/14\",\"30/08/14\"), (\"22/12/14\", \"31/12/14\")]} #holiday\n",
    "\n",
    "sms = Sms_extractor(tc0, suppress=[], auxlabel=\"tc0_\", load_old_datasources=load_old_datasources)\n",
    "stop_locations = Stop_locations_extractor(tc0, suppress=[], auxlabel=\"tc0_\", load_old_datasources=load_old_datasources)\n",
    "##screen = Screen_extractor()\n",
    "##facebook_friends = Facebook_friends_extractor()\n",
    "bluetooth = Bluetooth_extractor(tc0, suppress=[], auxlabel=\"tc0_\", load_old_datasources=load_old_datasources)\n",
    "##calllog = Calllog_extractor()\n",
    "##location = Location_extractor()\n",
    "big_five = Big_five_extractor()"
   ]
  },
  {
   "cell_type": "markdown",
   "metadata": {},
   "source": [
    "### Build full JSON dataset"
   ]
  },
  {
   "cell_type": "code",
   "execution_count": 4,
   "metadata": {
    "collapsed": false,
    "scrolled": true
   },
   "outputs": [],
   "source": [
    "with open('data_cache/users.json', 'r') as infile:\n",
    "    users = [int(i) for i in json.load(infile)]\n",
    "\n",
    "load_cached_data_sets = True\n",
    "\n",
    "if load_cached_data_sets:\n",
    "    with open('data_cache/dataset_X.json') as infile:\n",
    "        dataset_X = json.load(infile)\n",
    "    with open('data_cache/dataset_Y.json') as infile:\n",
    "        dataset_Y = json.load(infile)\n",
    "else:\n",
    "    dataset_X = {}\n",
    "    dataset_Y = {}\n",
    "\n",
    "    for user in users:\n",
    "\n",
    "        if user%10 == 0:\n",
    "            print user,\n",
    "\n",
    "        datapoint_x = {}\n",
    "        datapoint_y = {}\n",
    "\n",
    "        # Ordered by execution speed\n",
    "        try:\n",
    "            datapoint_x.update(stop_locations.main(user))\n",
    "            datapoint_x.update(sms.main(user))\n",
    "            #datapoint_x.update(screen.main(user))\n",
    "            #datapoint_x.update(facebook_friends.main(user))\n",
    "            datapoint_x.update(bluetooth.main(user))\n",
    "            #datapoint_x.update(calllog.main(user))\n",
    "            #datapoint_x.update(location.main(user))\n",
    "            datapoint_y.update(big_five.main(user))\n",
    "        except Exception as e:\n",
    "            print \"<\"+str(e)+\">\",\n",
    "            continue\n",
    "\n",
    "        dataset_X[user] = datapoint_x\n",
    "        dataset_Y[user] = datapoint_y\n",
    "        \n",
    "    # Store loaded data    \n",
    "    with open('data_cache/dataset_X.json', 'w') as outfile:\n",
    "        json.dump(dataset_X,outfile)\n",
    "    with open('data_cache/dataset_Y.json', 'w') as outfile:\n",
    "        json.dump(dataset_Y,outfile)    "
   ]
  },
  {
   "cell_type": "markdown",
   "metadata": {
    "collapsed": false
   },
   "source": [
    "X = np.array(X)\n",
    "M = X.shape[1]\n",
    "\n",
    "combs = []\n",
    "for i in range(M):\n",
    "    for j in range(M):\n",
    "        if j <= i: continue\n",
    "        combs.append((i,j))\n",
    "        \n",
    "M = len(combs)\n",
    "\n",
    "cols, rows = 3, np.ceil(M/3.0)\n",
    "\n",
    "plt.figure(figsize=(15,5*rows))\n",
    "for c,(i,j) in enumerate(combs):\n",
    "    plt.subplot(rows,cols,c)\n",
    "    plt.scatter(X[:,i],X[:,j])\n",
    "    \n",
    "plt.show()"
   ]
  },
  {
   "cell_type": "markdown",
   "metadata": {},
   "source": [
    "### Convert to matrix and standardize"
   ]
  },
  {
   "cell_type": "code",
   "execution_count": 5,
   "metadata": {
    "collapsed": false
   },
   "outputs": [],
   "source": [
    "features_x = sorted(dataset_X.items()[0][1].keys())\n",
    "features_y = ['openness','conscientiousness','extraversion','aggreeableness','neuroticism']\n",
    "\n",
    "#features_x = filter(lambda x: int(x[2]) in [1,3], features_x)\n",
    "\n",
    "X = []\n",
    "Y = []\n",
    "for k,v in dataset_X.items():\n",
    "    X.append([v[f] for f in features_x])\n",
    "for k,v in dataset_Y.items():\n",
    "    Y.append([v[f] for f in features_y])\n",
    "    \n",
    "X_scaled = scale(np.array(X))\n",
    "#Y_scaled = scale(np.array(Y))"
   ]
  },
  {
   "cell_type": "code",
   "execution_count": 6,
   "metadata": {
    "collapsed": false
   },
   "outputs": [
    {
     "data": {
      "text/plain": [
       "{0: u'tc0_bluetooth_social_entropy',\n",
       " 1: u'tc0_sms_fractions_of_conversations_started',\n",
       " 2: u'tc0_sms_overall_received_responsiveness',\n",
       " 3: u'tc0_sms_overall_responsiveness',\n",
       " 4: u'tc0_sms_selectivity_in_responsiveness',\n",
       " 5: u'tc0_sms_traffic',\n",
       " 6: u'tc0_stop_locations_geospacial_entropy'}"
      ]
     },
     "execution_count": 6,
     "metadata": {},
     "output_type": "execute_result"
    }
   ],
   "source": [
    "dict(zip(range(len(features_x)),features_x))"
   ]
  },
  {
   "cell_type": "markdown",
   "metadata": {},
   "source": [
    "### Remove outliers"
   ]
  },
  {
   "cell_type": "code",
   "execution_count": null,
   "metadata": {
    "collapsed": false,
    "scrolled": false
   },
   "outputs": [
    {
     "name": "stdout",
     "output_type": "stream",
     "text": [
      "-11.5115106834 0.564479141029\n",
      "-12.9998644569 1.13328565013\n",
      "-13.7326290474 0.948117785353\n",
      "-11.4621897735 0.785044043028\n",
      "-11.8378910848 0.757994631318\n",
      "-12.0345039151 0.85088379837\n",
      "-12.9992326631 0.957040181115\n",
      "-13.4851408275 0.721363455817\n",
      "-10.9055073117 0.45487777201\n",
      "-11.6910842533 0.783984968744\n",
      "-11.2163901563 0.633868545165\n",
      "-15.7644021936 1.13692025909\n",
      "-12.8900709292"
     ]
    }
   ],
   "source": [
    "out = Outlier_detector(X_scaled,threshold=-1, visualize=True, nu=0.1, gamma=0.5)\n",
    "outliers = out.main()\n",
    "\n",
    "X_clean = np.delete(X_scaled,outliers,axis=0)\n",
    "Y_clean = np.delete(Y,outliers,axis=0)\n",
    "\n",
    "print X_scaled.shape\n",
    "print X_clean.shape\n",
    "\n",
    "#np.savetxt(\"data/X.csv\", X_clean, delimiter=\",\")\n",
    "#np.savetxt(\"data/Y.csv\", Y_clean, delimiter=\",\")"
   ]
  },
  {
   "cell_type": "code",
   "execution_count": null,
   "metadata": {
    "collapsed": false,
    "scrolled": false
   },
   "outputs": [],
   "source": [
    "print zip(range(len(features_x)),features_x)\n",
    "%matplotlib inline\n",
    "import matplotlib.pylab as plt\n",
    "import pandas as pd\n",
    "df = pd.DataFrame(X_clean)\n",
    "pd.tools.plotting.scatter_matrix(df, alpha=1, figsize=(16,16), diagonal=\"kde\")\n",
    "plt.tight_layout()\n",
    "plt.show()"
   ]
  },
  {
   "cell_type": "code",
   "execution_count": 10,
   "metadata": {
    "collapsed": false
   },
   "outputs": [
    {
     "data": {
      "text/plain": [
       "['tc0_sms_fractions_of_conversations_started',\n",
       " 'tc0_sms_overall_received_responsiveness',\n",
       " 'tc0_sms_overall_responsiveness',\n",
       " 'tc0_sms_selectivity_in_responsiveness',\n",
       " 'tc0_sms_traffic']"
      ]
     },
     "execution_count": 10,
     "metadata": {},
     "output_type": "execute_result"
    }
   ],
   "source": [
    "features_x"
   ]
  },
  {
   "cell_type": "code",
   "execution_count": 79,
   "metadata": {
    "collapsed": false
   },
   "outputs": [
    {
     "name": "stdout",
     "output_type": "stream",
     "text": [
      "(772, 5)\n",
      "(739, 5)\n"
     ]
    }
   ],
   "source": [
    "print X_scaled.shape\n",
    "print X_clean.shape"
   ]
  },
  {
   "cell_type": "code",
   "execution_count": 108,
   "metadata": {
    "collapsed": false
   },
   "outputs": [
    {
     "data": {
      "text/plain": [
       "['tc0_sms_fractions_of_conversations_started',\n",
       " 'tc0_sms_overall_received_responsiveness',\n",
       " 'tc0_sms_overall_responsiveness',\n",
       " 'tc0_sms_selectivity_in_responsiveness',\n",
       " 'tc0_sms_traffic']"
      ]
     },
     "execution_count": 108,
     "metadata": {},
     "output_type": "execute_result"
    }
   ],
   "source": [
    "features_x"
   ]
  },
  {
   "cell_type": "code",
   "execution_count": 75,
   "metadata": {
    "collapsed": false
   },
   "outputs": [
    {
     "data": {
      "text/plain": [
       "-4.111045762890126"
      ]
     },
     "execution_count": 75,
     "metadata": {},
     "output_type": "execute_result"
    }
   ],
   "source": [
    "X.min()"
   ]
  },
  {
   "cell_type": "code",
   "execution_count": 110,
   "metadata": {
    "collapsed": false
   },
   "outputs": [],
   "source": []
  },
  {
   "cell_type": "code",
   "execution_count": 113,
   "metadata": {
    "collapsed": true
   },
   "outputs": [],
   "source": [
    "vals = [2,1,3,3,3,1,17,3,4,4,1,2,3]"
   ]
  },
  {
   "cell_type": "code",
   "execution_count": 114,
   "metadata": {
    "collapsed": false
   },
   "outputs": [
    {
     "data": {
      "text/plain": [
       "3.6153846153846154"
      ]
     },
     "execution_count": 114,
     "metadata": {},
     "output_type": "execute_result"
    }
   ],
   "source": [
    "np.mean(vals)"
   ]
  },
  {
   "cell_type": "code",
   "execution_count": 115,
   "metadata": {
    "collapsed": true
   },
   "outputs": [],
   "source": [
    "for v in vals:\n",
    "    try:\n",
    "        themean = (themean+v)/2.0\n",
    "    except:\n",
    "        themean = v"
   ]
  },
  {
   "cell_type": "code",
   "execution_count": 132,
   "metadata": {
    "collapsed": false
   },
   "outputs": [],
   "source": [
    "component_combination = []#[(0,1),(0,2),(0,3),(0,4),(1,2),(1,3),(1,4),(2,3),(2,4),(3,4)]"
   ]
  },
  {
   "cell_type": "code",
   "execution_count": 138,
   "metadata": {
    "collapsed": false
   },
   "outputs": [
    {
     "ename": "SyntaxError",
     "evalue": "invalid syntax (<ipython-input-138-1793cdb9a4d1>, line 1)",
     "output_type": "error",
     "traceback": [
      "\u001b[1;36m  File \u001b[1;32m\"<ipython-input-138-1793cdb9a4d1>\"\u001b[1;36m, line \u001b[1;32m1\u001b[0m\n\u001b[1;33m    for i in range(5): for j in range(5): if j > i: component_combination.append((i,j))\u001b[0m\n\u001b[1;37m                         ^\u001b[0m\n\u001b[1;31mSyntaxError\u001b[0m\u001b[1;31m:\u001b[0m invalid syntax\n"
     ]
    }
   ],
   "source": [
    "for i in range(5):\n",
    "    for j in range(5):\n",
    "        if j > i:\n",
    "            component_combination.append((i,j))"
   ]
  },
  {
   "cell_type": "code",
   "execution_count": 148,
   "metadata": {
    "collapsed": true
   },
   "outputs": [],
   "source": [
    "a = np.array([[1,2,3],[4,5,6],[7,8,9]])"
   ]
  },
  {
   "cell_type": "code",
   "execution_count": 154,
   "metadata": {
    "collapsed": false
   },
   "outputs": [
    {
     "data": {
      "text/plain": [
       "array([[4, 5, 6]])"
      ]
     },
     "execution_count": 154,
     "metadata": {},
     "output_type": "execute_result"
    }
   ],
   "source": [
    "np.delete(a,[0,2],axis=0)"
   ]
  },
  {
   "cell_type": "code",
   "execution_count": 105,
   "metadata": {
    "collapsed": false
   },
   "outputs": [
    {
     "data": {
      "text/plain": [
       "['openness',\n",
       " 'extraversion',\n",
       " 'neuroticism',\n",
       " 'conscientiousness',\n",
       " 'aggreeableness']"
      ]
     },
     "execution_count": 105,
     "metadata": {},
     "output_type": "execute_result"
    }
   ],
   "source": [
    "features_y"
   ]
  },
  {
   "cell_type": "code",
   "execution_count": null,
   "metadata": {
    "collapsed": true
   },
   "outputs": [],
   "source": []
  }
 ],
 "metadata": {
  "kernelspec": {
   "display_name": "Python 2",
   "language": "python",
   "name": "python2"
  },
  "language_info": {
   "codemirror_mode": {
    "name": "ipython",
    "version": 2
   },
   "file_extension": ".py",
   "mimetype": "text/x-python",
   "name": "python",
   "nbconvert_exporter": "python",
   "pygments_lexer": "ipython2",
   "version": "2.7.6"
  }
 },
 "nbformat": 4,
 "nbformat_minor": 0
}
