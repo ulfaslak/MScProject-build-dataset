{
 "cells": [
  {
   "cell_type": "code",
   "execution_count": 1,
   "metadata": {
    "ExecuteTime": {
     "end_time": "2017-02-02T13:19:00.961904",
     "start_time": "2017-02-02T13:18:59.274834"
    },
    "collapsed": true,
    "run_control": {
     "frozen": false,
     "read_only": false
    }
   },
   "outputs": [],
   "source": [
    "%matplotlib inline\n",
    "import matplotlib.pylab as plt\n",
    "import os\n",
    "import numpy as np\n",
    "import pandas as pd\n",
    "from datetime import datetime as dt\n",
    "from collections import Counter\n",
    "from sklearn.preprocessing import scale\n",
    "from sklearn.feature_selection import VarianceThreshold\n",
    "import bandicoot_dev as bc_d\n",
    "import json\n",
    "import scipy.stats as ss"
   ]
  },
  {
   "cell_type": "code",
   "execution_count": 5,
   "metadata": {
    "ExecuteTime": {
     "end_time": "2017-02-02T13:24:02.292644",
     "start_time": "2017-02-02T13:24:02.287529"
    },
    "collapsed": true
   },
   "outputs": [],
   "source": [
    "tc = {  # School weeks spring 2014, previously named 'tc1_spring'\n",
    "    'hours': range(24),\n",
    "    'days': range(7),\n",
    "    'spans': [\n",
    "        (\"06/01/14\", \"25/01/14\"),\n",
    "        (\"03/02/14\", \"12/04/14\"),\n",
    "        (\"20/04/14\", \"17/05/14\"),\n",
    "        (\"02/06/14\", \"21/06/14\"),\n",
    "    ]\n",
    "}"
   ]
  },
  {
   "cell_type": "code",
   "execution_count": null,
   "metadata": {
    "collapsed": true
   },
   "outputs": [],
   "source": [
    "def _compute_features(userid, tc, groupby=\"week\", summary=\"special\"):\n",
    "    \n",
    "    user = bc_d.read_csv(\n",
    "        \"%d\" % userid, \n",
    "        call_path=\"build_dataset/data_cache/records/call/%s/\" % tc,\n",
    "        text_path=\"build_dataset/data_cache/records/text/%s/\" % tc,\n",
    "        physical_path=\"build_dataset/data_cache/records/physical/%s/\" % tc,\n",
    "        screen_path=\"build_dataset/data_cache/records/screen/%s/\" % tc,\n",
    "        stop_path=\"build_dataset/data_cache/records/stop/%s/\" % tc, \n",
    "        network=False,\n",
    "        describe=False\n",
    "    )\n",
    "\n",
    "    if not _threshold_test(user):\n",
    "        raise SufficiencyException(\"User '%s' has too few records for analysis\" % str(userid))\n",
    "    \n",
    "    user.start_time['any'] = dt.strptime('01/01/14', \"%d/%m/%y\")\n",
    "    user.end_time['any'] = dt.strptime('01/01/15', \"%d/%m/%y\")\n",
    "    \n",
    "    indicators = bc_d.utils.all(\n",
    "        user,\n",
    "        groupby=groupby,\n",
    "        summary=summary,\n",
    "        dist=True,\n",
    "        network=False,\n",
    "        spatial=False\n",
    "    )\n",
    "\n",
    "    for ex in ['name', 'reporting']:\n",
    "        del indicators[ex]\n",
    "\n",
    "    return bc_d.utils.flatten(indicators), user"
   ]
  },
  {
   "cell_type": "code",
   "execution_count": null,
   "metadata": {
    "ExecuteTime": {
     "end_time": "2017-02-02T13:23:33.510855",
     "start_time": "2017-02-02T13:23:33.348741"
    },
    "collapsed": true
   },
   "outputs": [],
   "source": [
    "ds, user = _compute_features(u, tc=tc, groupby='week', summary='special')"
   ]
  },
  {
   "cell_type": "code",
   "execution_count": 6,
   "metadata": {
    "ExecuteTime": {
     "end_time": "2017-02-02T13:24:04.089848",
     "start_time": "2017-02-02T13:24:04.080016"
    },
    "collapsed": false
   },
   "outputs": [
    {
     "name": "stdout",
     "output_type": "stream",
     "text": [
      "\u001b[33mWarning: No data provided!\u001b[0m\n"
     ]
    }
   ],
   "source": [
    "userid = 0\n",
    "user = bc_d.read_csv(\n",
    "    \"%d\" % userid, \n",
    "    call_path=\"build_dataset/data_cache/records/call/%s/\" % tc,\n",
    "    text_path=\"build_dataset/data_cache/records/text/%s/\" % tc,\n",
    "    physical_path=\"build_dataset/data_cache/records/physical/%s/\" % tc,\n",
    "    screen_path=\"build_dataset/data_cache/records/screen/%s/\" % tc,\n",
    "    stop_path=\"build_dataset/data_cache/records/stop/%s/\" % tc, \n",
    "    network=False,\n",
    "    describe=False\n",
    ")\n"
   ]
  },
  {
   "cell_type": "code",
   "execution_count": 7,
   "metadata": {
    "ExecuteTime": {
     "end_time": "2017-02-02T13:24:16.117122",
     "start_time": "2017-02-02T13:24:16.111448"
    },
    "collapsed": false
   },
   "outputs": [
    {
     "data": {
      "text/plain": [
       "[]"
      ]
     },
     "execution_count": 7,
     "metadata": {},
     "output_type": "execute_result"
    }
   ],
   "source": [
    "user.call_records"
   ]
  },
  {
   "cell_type": "code",
   "execution_count": null,
   "metadata": {
    "collapsed": true
   },
   "outputs": [],
   "source": []
  }
 ],
 "metadata": {
  "kernelspec": {
   "display_name": "Python 2",
   "language": "python",
   "name": "python2"
  },
  "language_info": {
   "codemirror_mode": {
    "name": "ipython",
    "version": 2
   },
   "file_extension": ".py",
   "mimetype": "text/x-python",
   "name": "python",
   "nbconvert_exporter": "python",
   "pygments_lexer": "ipython2",
   "version": "2.7.12"
  },
  "nav_menu": {},
  "toc": {
   "navigate_menu": true,
   "number_sections": true,
   "sideBar": true,
   "threshold": 6,
   "toc_cell": false,
   "toc_section_display": "block",
   "toc_window_display": false
  }
 },
 "nbformat": 4,
 "nbformat_minor": 1
}
